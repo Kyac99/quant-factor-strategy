{
 "cells": [
  {
   "cell_type": "markdown",
   "metadata": {},
   "source": [
    "# Exemple de Stratégie d'Investissement Factorielle\n",
    "\n",
    "Ce notebook illustre l'utilisation de la stratégie d'investissement factorielle implémentée dans ce projet. Il montre comment:\n",
    "\n",
    "1. Récupérer et préparer les données\n",
    "2. Calculer les scores factoriels\n",
    "3. Construire un portefeuille basé sur ces facteurs\n",
    "4. Backtester la stratégie\n",
    "5. Visualiser et analyser les résultats"
   ]
  },
  {
   "cell_type": "markdown",
   "metadata": {},
   "source": [
    "## Configuration et Importation des Modules"
   ]
  },
  {
   "cell_type": "code",
   "execution_count": null,
   "metadata": {},
   "outputs": [],
   "source": [
    "import sys\n",
    "import os\n",
    "import pandas as pd\n",
    "import numpy as np\n",
    "import matplotlib.pyplot as plt\n",
    "import seaborn as sns\n",
    "from datetime import datetime, timedelta\n",
    "\n",
    "# Ajouter le répertoire parent au chemin pour pouvoir importer les modules du projet\n",
    "sys.path.append('..')\n",
    "\n",
    "from src.data.data_loader import DataLoader\n",
    "from src.factors.factor_model import FactorModel\n",
    "from src.factors.value_factors import ValueFactors\n",
    "from src.factors.momentum_factors import MomentumFactors\n",
    "from src.factors.quality_factors import QualityFactors\n",
    "from src.factors.low_volatility_factors import LowVolatilityFactors\n",
    "from src.portfolio.portfolio_builder import PortfolioBuilder\n",
    "from src.backtest.backtest_engine import BacktestEngine\n",
    "from src.utils.visualization import VisualizationTools\n",
    "\n",
    "# Configuration du style matplotlib\n",
    "VisualizationTools.set_plotting_style()\n",
    "\n",
    "# Ignorer les avertissements\n",
    "import warnings\n",
    "warnings.filterwarnings('ignore')"
   ]
  },
  {
   "cell_type": "markdown",
   "metadata": {},
   "source": [
    "## 1. Récupération et Préparation des Données"
   ]
  },
  {
   "cell_type": "code",
   "execution_count": null,
   "metadata": {},
   "outputs": [],
   "source": [
    "# Configuration des paramètres\n",
    "start_date = (datetime.now() - timedelta(days=365*3)).strftime('%Y-%m-%d')  # 3 ans de données\n",
    "end_date = datetime.now().strftime('%Y-%m-%d')\n",
    "\n",
    "# Liste restreinte de tickers pour l'exemple (actions du S&P 500)\n",
    "tickers = [\n",
    "    'AAPL', 'MSFT', 'AMZN', 'GOOGL', 'META', \n",
    "    'TSLA', 'JPM', 'JNJ', 'V', 'PG', \n",
    "    'HD', 'BAC', 'MA', 'XOM', 'DIS'\n",
    "]\n",
    "\n",
    "print(f\"Période d'analyse: {start_date} à {end_date}\")\n",
    "print(f\"Nombre de tickers: {len(tickers)}\")"
   ]
  },
  {
   "cell_type": "code",
   "execution_count": null,
   "metadata": {},
   "outputs": [],
   "source": [
    "# Créer le dossier data s'il n'existe pas\n",
    "if not os.path.exists('../data'):\n",
    "    os.makedirs('../data')\n",
    "\n",
    "# Initialiser le data loader\n",
    "data_loader = DataLoader(start_date=start_date, end_date=end_date, data_dir='../data')\n",
    "\n",
    "# Récupérer les données de prix (attention: peut prendre du temps)\n",
    "print(\"Récupération des données de prix...\")\n",
    "price_data = data_loader.get_stock_data(tickers, save=True)\n",
    "\n",
    "# Récupérer les données de l'indice\n",
    "print(\"Récupération des données de l'indice S&P 500...\")\n",
    "market_data = data_loader.get_market_index(save=True)\n",
    "\n",
    "# Combiner les prix de clôture ajustés en un seul DataFrame\n",
    "prices_df = data_loader.combine_prices(price_data)\n",
    "\n",
    "# Afficher un aperçu des données\n",
    "print(\"\\nAperçu des données de prix:\")\n",
    "prices_df.head()"
   ]
  },
  {
   "cell_type": "code",
   "execution_count": null,
   "metadata": {},
   "outputs": [],
   "source": [
    "# Récupérer les données fondamentales (attention: peut prendre du temps)\n",
    "print(\"Récupération des données fondamentales...\")\n",
    "fundamentals = data_loader.get_fundamentals(tickers, save=True)\n",
    "\n",
    "# Afficher un exemple des données fondamentales pour un ticker\n",
    "ticker_example = tickers[0]\n",
    "print(f\"\\nExemple de données fondamentales pour {ticker_example}:\")\n",
    "for key in fundamentals[ticker_example].keys():\n",
    "    if key == 'info':\n",
    "        print(f\"\\n{key.capitalize()} - Quelques métriques clés:\")\n",
    "        info = fundamentals[ticker_example][key]\n",
    "        metrics = ['sector', 'industry', 'marketCap', 'trailingPE', 'priceToBook', 'profitMargins', 'returnOnEquity']\n",
    "        for metric in metrics:\n",
    "            if metric in info:\n",
    "                print(f\"  {metric}: {info[metric]}\")\n",
    "    else:\n",
    "        print(f\"\\n{key.capitalize()} - Aperçu:\")\n",
    "        display(fundamentals[ticker_example][key].head(3))"
   ]
  },
  {
   "cell_type": "markdown",
   "metadata": {},
   "source": [
    "## 2. Calcul des Scores Factoriels"
   ]
  },
  {
   "cell_type": "code",
   "execution_count": null,
   "metadata": {},
   "outputs": [],
   "source": [
    "# Initialiser le modèle factoriel\n",
    "factor_model = FactorModel()\n",
    "\n",
    "# Calculer les différents scores factoriels\n",
    "print(\"Calcul des scores factoriels...\")\n",
    "market_series = market_data['Adj Close']\n",
    "\n",
    "# Calculer chaque score factoriel\n",
    "value_score = factor_model.calculate_value_score(prices_df, fundamentals)\n",
    "momentum_score = factor_model.calculate_momentum_score(prices_df)\n",
    "quality_score = factor_model.calculate_quality_score(fundamentals)\n",
    "low_vol_score = factor_model.calculate_low_volatility_score(prices_df, market_series)\n",
    "\n",
    "# Calculer le score combiné\n",
    "combined_score = factor_model.calculate_combined_score(\n",
    "    prices_df, fundamentals, market_series\n",
    ")\n",
    "\n",
    "# Afficher les scores de la dernière date disponible\n",
    "latest_date = combined_score.index[-1]\n",
    "print(f\"\\nScores à la date du {latest_date.strftime('%Y-%m-%d')}:\")\n",
    "display(combined_score.iloc[-1].sort_values(ascending=False))"
   ]
  },
  {
   "cell_type": "code",
   "execution_count": null,
   "metadata": {},
   "outputs": [],
   "source": [
    "# Visualiser les scores des différents facteurs\n",
    "factors = {\n",
    "    'Value': value_score,\n",
    "    'Momentum': momentum_score,\n",
    "    'Quality': quality_score,\n",
    "    'Low Volatility': low_vol_score,\n",
    "    'Combined': combined_score\n",
    "}\n",
    "\n",
    "# Créer un DataFrame pour la dernière date\n",
    "factor_scores_df = pd.DataFrame(index=tickers)\n",
    "\n",
    "for factor_name, score_df in factors.items():\n",
    "    if not score_df.empty and latest_date in score_df.index:\n",
    "        factor_scores_df[factor_name] = score_df.loc[latest_date]\n",
    "\n",
    "# Normaliser les scores pour la visualisation\n",
    "normalized_scores = factor_scores_df.copy()\n",
    "for col in normalized_scores.columns:\n",
    "    normalized_scores[col] = (normalized_scores[col] - normalized_scores[col].mean()) / normalized_scores[col].std()\n",
    "\n",
    "# Visualiser les scores sous forme de heatmap\n",
    "plt.figure(figsize=(14, 10))\n",
    "sns.heatmap(normalized_scores, cmap='RdBu_r', annot=True, fmt='.2f', linewidths=0.5, center=0)\n",
    "plt.title('Scores Factoriels Normalisés par Ticker', fontsize=16)\n",
    "plt.xticks(rotation=45, ha='right')\n",
    "plt.tight_layout()\n",
    "plt.show()"
   ]
  },
  {
   "cell_type": "markdown",
   "metadata": {},
   "source": [
    "## 3. Construction du Portefeuille"
   ]
  },
  {
   "cell_type": "code",
   "execution_count": null,
   "metadata": {},
   "outputs": [],
   "source": [
    "# Classer les actifs et sélectionner les meilleurs\n",
    "ranks = factor_model.rank_assets(combined_score)\n",
    "top_n = 5  # Sélectionner les 5 meilleurs pour l'exemple\n",
    "selected_assets = factor_model.select_top_assets(ranks, top_n=top_n)\n",
    "\n",
    "# Afficher les actifs sélectionnés à la dernière date\n",
    "print(f\"Actifs sélectionnés au {latest_date.strftime('%Y-%m-%d')}:\")\n",
    "selected_tickers = selected_assets.iloc[-1][selected_assets.iloc[-1]].index.tolist()\n",
    "for ticker in selected_tickers:\n",
    "    print(f\"- {ticker}: score = {combined_score.iloc[-1][ticker]:.4f}\")"
   ]
  },
  {
   "cell_type": "code",
   "execution_count": null,
   "metadata": {},
   "outputs": [],
   "source": [
    "# Initialiser le constructeur de portefeuille\n",
    "portfolio_builder = PortfolioBuilder()\n",
    "\n",
    "# Calculer les rendements pour l'optimisation\n",
    "returns_df = prices_df.pct_change().dropna()\n",
    "\n",
    "# Comparer différentes méthodes de construction de portefeuille\n",
    "portfolio_methods = {\n",
    "    'Equal Weight': portfolio_builder.equal_weight(selected_assets),\n",
    "    'Score Weighted': portfolio_builder.score_weighted(selected_assets, combined_score),\n",
    "    'Minimum Variance': portfolio_builder.minimum_variance(selected_assets, returns_df),\n",
    "    'Maximum Sharpe': portfolio_builder.maximum_sharpe_ratio(selected_assets, returns_df),\n",
    "    'Risk Parity': portfolio_builder.risk_parity(selected_assets, returns_df)\n",
    "}\n",
    "\n",
    "# Visualiser les poids pour chaque méthode à la dernière date\n",
    "weights_df = pd.DataFrame(index=tickers)\n",
    "\n",
    "for method_name, weights in portfolio_methods.items():\n",
    "    if not weights.empty and latest_date in weights.index:\n",
    "        weights_df[method_name] = weights.loc[latest_date]\n",
    "\n",
    "# Visualiser les poids\n",
    "ax = weights_df.plot(kind='bar', figsize=(14, 6))\n",
    "plt.title('Poids du Portefeuille par Méthode de Construction', fontsize=16)\n",
    "plt.xlabel('Ticker', fontsize=12)\n",
    "plt.ylabel('Poids', fontsize=12)\n",
    "plt.xticks(rotation=45)\n",
    "plt.legend(title='Méthode')\n",
    "plt.grid(axis='y', linestyle='--', alpha=0.7)\n",
    "plt.tight_layout()\n",
    "plt.show()"
   ]
  },
  {
   "cell_type": "markdown",
   "metadata": {},
   "source": [
    "## 4. Backtest de la Stratégie"
   ]
  },
  {
   "cell_type": "code",
   "execution_count": null,
   "metadata": {},
   "outputs": [],
   "source": [
    "# Initialiser le moteur de backtest\n",
    "backtest_engine = BacktestEngine(initial_capital=10000, transaction_costs=0.001)\n",
    "\n",
    "# Exécuter les backtests pour chaque méthode de construction\n",
    "backtest_results = {}\n",
    "\n",
    "print(\"Exécution des backtests...\")\n",
    "for name, weights in portfolio_methods.items():\n",
    "    print(f\"Backtest de la stratégie: {name}\")\n",
    "    equity_curve, metrics, positions, trades = backtest_engine.run_backtest(weights, prices_df)\n",
    "    backtest_results[name] = (equity_curve, metrics, positions, trades)\n",
    "    \n",
    "    # Afficher quelques métriques clés\n",
    "    print(f\"  - Rendement annualisé: {metrics['annual_return']:.2%}\")\n",
    "    print(f\"  - Volatilité annualisée: {metrics['volatility']:.2%}\")\n",
    "    print(f\"  - Ratio de Sharpe: {metrics['sharpe_ratio']:.2f}\")\n",
    "    print(f\"  - Drawdown maximal: {metrics['max_drawdown']:.2%}\\n\")"
   ]
  },
  {
   "cell_type": "code",
   "execution_count": null,
   "metadata": {},
   "outputs": [],
   "source": [
    "# Comparer les performances des différentes stratégies\n",
    "comparison = backtest_engine.compare_strategies(backtest_results)\n",
    "\n",
    "# Formater la table pour l'affichage\n",
    "display_table = comparison.copy()\n",
    "percentage_cols = ['total_return', 'annual_return', 'volatility', 'max_drawdown', 'win_rate']\n",
    "\n",
    "for col in display_table.columns:\n",
    "    if col in percentage_cols:\n",
    "        display_table[col] = display_table[col].apply(lambda x: f\"{x:.2%}\")\n",
    "    else:\n",
    "        display_table[col] = display_table[col].apply(lambda x: f\"{x:.2f}\")\n",
    "\n",
    "display(display_table)"
   ]
  },
  {
   "cell_type": "markdown",
   "metadata": {},
   "source": [
    "## 5. Visualisation et Analyse des Résultats"
   ]
  },
  {
   "cell_type": "code",
   "execution_count": null,
   "metadata": {},
   "outputs": [],
   "source": [
    "# Tracer les courbes d'équité\n",
    "equity_curves = {name: results[0] for name, results in backtest_results.items()}\n",
    "\n",
    "fig, ax = plt.subplots(figsize=(14, 8))\n",
    "\n",
    "for name, curve in equity_curves.items():\n",
    "    normalized_curve = curve / curve.iloc[0] * 100\n",
    "    normalized_curve.plot(ax=ax, label=name, linewidth=2)\n",
    "\n",
    "# Ajouter l'indice de référence\n",
    "benchmark_curve = market_series.loc[equity_curves['Equal Weight'].index[0]:equity_curves['Equal Weight'].index[-1]]\n",
    "normalized_benchmark = benchmark_curve / benchmark_curve.iloc[0] * 100\n",
    "normalized_benchmark.plot(ax=ax, label='S&P 500', linestyle='--', color='black', linewidth=2)\n",
    "\n",
    "ax.set_title('Performance des Stratégies Factorielles', fontsize=16)\n",
    "ax.set_xlabel('Date', fontsize=14)\n",
    "ax.set_ylabel('Performance (%)', fontsize=14)\n",
    "ax.legend(title='Stratégie')\n",
    "ax.grid(True, alpha=0.3)\n",
    "plt.tight_layout()\n",
    "plt.show()"
   ]
  },
  {
   "cell_type": "code",
   "execution_count": null,
   "metadata": {},
   "outputs": [],
   "source": [
    "# Trouver la meilleure stratégie basée sur le rendement annualisé\n",
    "best_strategy = comparison['annual_return'].idxmax()\n",
    "print(f\"Meilleure stratégie: {best_strategy}\")\n",
    "\n",
    "# Tracer les drawdowns pour la meilleure stratégie\n",
    "fig = VisualizationTools.plot_drawdowns(equity_curves[best_strategy])\n",
    "plt.show()\n",
    "\n",
    "# Tracer les rendements mensuels pour la meilleure stratégie\n",
    "fig = VisualizationTools.plot_monthly_returns_heatmap(equity_curves[best_strategy])\n",
    "plt.show()"
   ]
  },
  {
   "cell_type": "code",
   "execution_count": null,
   "metadata": {},
   "outputs": [],
   "source": [
    "# Analyser la composition du portefeuille au fil du temps\n",
    "best_weights = portfolio_methods[best_strategy]\n",
    "\n",
    "# Afficher l'évolution des poids pour les principaux actifs\n",
    "top_assets = best_weights.sum().sort_values(ascending=False).head(5).index\n",
    "weights_evolution = best_weights[top_assets]\n",
    "\n",
    "# Rééchantillonner pour une visualisation plus claire (mensuelle)\n",
    "monthly_weights = weights_evolution.resample('M').last()\n",
    "\n",
    "# Tracer l'évolution des poids\n",
    "plt.figure(figsize=(14, 8))\n",
    "monthly_weights.plot.area(alpha=0.7)\n",
    "plt.title(f'Évolution des Poids du Portefeuille - {best_strategy}', fontsize=16)\n",
    "plt.xlabel('Date', fontsize=14)\n",
    "plt.ylabel('Allocation (%)', fontsize=14)\n",
    "plt.legend(title='Ticker')\n",
    "plt.grid(True, alpha=0.3)\n",
    "plt.tight_layout()\n",
    "plt.show()"
   ]
  },
  {
   "cell_type": "code",
   "execution_count": null,
   "metadata": {},
   "outputs": [],
   "source": [
    "# Analyser les métriques glissantes pour la meilleure stratégie\n",
    "fig = VisualizationTools.plot_rolling_metrics(\n",
    "    equity_curves[best_strategy], \n",
    "    window=63,  # ~3 mois\n",
    "    metrics=['return', 'volatility', 'sharpe']\n",
    ")\n",
    "plt.show()"
   ]
  },
  {
   "cell_type": "code",
   "execution_count": null,
   "metadata": {},
   "outputs": [],
   "source": [
    "# Examiner la contribution des facteurs (visualisation simplifiée)\n",
    "factor_scores_dict = {\n",
    "    'Value': value_score,\n",
    "    'Momentum': momentum_score,\n",
    "    'Quality': quality_score,\n",
    "    'Low Volatility': low_vol_score\n",
    "}\n",
    "\n",
    "# Tracer l'exposition aux facteurs à la date la plus récente\n",
    "fig = VisualizationTools.plot_factor_exposure(\n",
    "    best_weights,\n",
    "    factor_scores_dict,\n",
    "    date=latest_date\n",
    ")\n",
    "plt.title(f'Exposition aux Facteurs - {best_strategy} ({latest_date.strftime(\"%Y-%m-%d\")})', fontsize=16)\n",
    "plt.show()"
   ]
  },
  {
   "cell_type": "code",
   "execution_count": null,
   "metadata": {},
   "outputs": [],
   "source": [
    "# Afficher les transactions pour la meilleure stratégie\n",
    "trades_df = backtest_results[best_strategy][3]\n",
    "\n",
    "if not trades_df.empty:\n",
    "    # Calculer quelques statistiques sur les trades\n",
    "    num_trades = len(trades_df)\n",
    "    avg_trade_size = trades_df['value'].abs().mean()\n",
    "    total_costs = trades_df['transaction_cost'].sum()\n",
    "    \n",
    "    print(f\"Analyse des transactions pour la stratégie {best_strategy}:\")\n",
    "    print(f\"Nombre total de transactions: {num_trades}\")\n",
    "    print(f\"Taille moyenne des transactions: ${avg_trade_size:.2f}\")\n",
    "    print(f\"Coûts de transaction totaux: ${total_costs:.2f}\")\n",
    "    \n",
    "    # Afficher les 10 dernières transactions\n",
    "    print(\"\\nDernières transactions:\")\n",
    "    display(trades_df.tail(10))\n",
    "else:\n",
    "    print(\"Aucune transaction enregistrée pour cette stratégie.\")"
   ]
  },
  {
   "cell_type": "markdown",
   "metadata": {},
   "source": [
    "## 6. Conclusion et Prochaines Étapes"
   ]
  },
  {
   "cell_type": "markdown",
   "metadata": {},
   "source": [
    "Dans ce notebook, nous avons implémenté et testé une stratégie d'investissement factorielle complète. Les principales étapes ont été :\n",
    "\n",
    "1. **Récupération et préparation des données** : Prix historiques et données fondamentales\n",
    "2. **Calcul des scores factoriels** : Value, momentum, qualité et faible volatilité\n",
    "3. **Construction du portefeuille** : Différentes méthodes d'allocation d'actifs\n",
    "4. **Backtest de la stratégie** : Évaluation des performances historiques\n",
    "5. **Analyse des résultats** : Visualisations et métriques\n",
    "\n",
    "Cette implémentation démontre comment combiner des facteurs bien connus pour construire une stratégie d'investissement systématique. Les résultats montrent que la stratégie factorielle peut potentiellement surperformer le marché, surtout avec des méthodes d'allocation plus sophistiquées.\n",
    "\n",
    "### Prochaines étapes possibles :\n",
    "\n",
    "- **Optimisation des paramètres** : Ajuster les poids des facteurs et les seuils de sélection\n",
    "- **Ajout de nouveaux facteurs** : Explorer d'autres facteurs comme le sentiment ou les facteurs macroéconomiques\n",
    "- **Tests de robustesse** : Analyse de sensibilité et tests sur différentes périodes de marché\n",
    "- **Implémentation en temps réel** : Automatisation de la collecte de données et des signaux de trading\n",
    "- **Diversification** : Application à d'autres classes d'actifs ou régions géographiques"
   ]
  }
 ],
 "metadata": {
  "kernelspec": {
   "display_name": "Python 3",
   "language": "python",
   "name": "python3"
  },
  "language_info": {
   "codemirror_mode": {
    "name": "ipython",
    "version": 3
   },
   "file_extension": ".py",
   "mimetype": "text/x-python",
   "name": "python",
   "nbconvert_exporter": "python",
   "pygments_lexer": "ipython3",
   "version": "3.8.10"
  }
 },
 "nbformat": 4,
 "nbformat_minor": 4
}
